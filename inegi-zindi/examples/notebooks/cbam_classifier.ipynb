{
 "cells": [
  {
   "cell_type": "markdown",
   "metadata": {},
   "source": [
    "## Import al neccesary libries"
   ]
  },
  {
   "cell_type": "code",
   "execution_count": 1,
   "metadata": {},
   "outputs": [],
   "source": [
    "import torch\n",
    "import torch.nn as nn\n",
    "import torch.optim as optim\n",
    "import pytorch_lightning as pl\n",
    "import wandb\n",
    "import traceback\n",
    "import torch.nn.functional as F\n",
    "import numpy as np\n",
    "\n",
    "from torch.utils.data import DataLoader\n",
    "from pytorch_lightning.loggers import WandbLogger\n",
    "from pytorch_lightning.callbacks import ModelCheckpoint, LearningRateMonitor\n",
    "\n",
    "\n",
    "from models.data import LandsatDataModule\n",
    "from models.nn import ResAttentionConvNetCBAM\n",
    "from models.trainers import BasicTrainer\n",
    "from models.trainers import LossFactory\n"
   ]
  },
  {
   "cell_type": "markdown",
   "metadata": {},
   "source": [
    "## Set all configurations using dictionaries"
   ]
  },
  {
   "cell_type": "code",
   "execution_count": 15,
   "metadata": {},
   "outputs": [],
   "source": [
    "config = {\n",
    "    'model_name': 'ResAttentionConvNetCBAM',\n",
    "    'data_module': {\n",
    "        'train_file': '/teamspace/studios/this_studio/datasets/uint16_optimized_balanced_train_data.h5',\n",
    "        'test_file': '/teamspace/studios/this_studio/dataset/test_data.h5',\n",
    "        'batch_size': 512,\n",
    "        'dtype': np.uint16,\n",
    "        'num_workers': 4,\n",
    "        'seed': 50,\n",
    "        'split_ratio': (0.8, 0.2),\n",
    "        'transform': {\n",
    "            'RandomHorizontalFlip': {'p': 0.5},\n",
    "            'RandomVerticalFlip': {'p': 0.5},\n",
    "            'RandomRotation': {'degrees': 90},\n",
    "        }\n",
    "    },\n",
    "    'model': {\n",
    "        'input_channels': 6,\n",
    "        'embedding_size': 256,\n",
    "        'num_classes': 1,\n",
    "        'dropout_rate': 0.5\n",
    "    },\n",
    "    'loss': {\n",
    "        'BCEWithLogitsLoss': {},\n",
    "        'FocalLoss': {'alpha': 0.8, 'gamma': 2},\n",
    "    },\n",
    "    'optimizer': {\n",
    "        'type': 'AdamW',\n",
    "        'lr': 1e-3,\n",
    "        'weight_decay': 1.0e-5\n",
    "    },\n",
    "    'scheduler': {\n",
    "        'type': 'StepLR',\n",
    "        'step_size': 10,\n",
    "        'gamma': 0.1\n",
    "    }\n",
    "}"
   ]
  },
  {
   "cell_type": "markdown",
   "metadata": {},
   "source": [
    "## Create the data module"
   ]
  },
  {
   "cell_type": "code",
   "execution_count": 16,
   "metadata": {},
   "outputs": [
    {
     "name": "stdout",
     "output_type": "stream",
     "text": [
      "DataModule created successfully\n"
     ]
    }
   ],
   "source": [
    "# Create the HDF5DataModule from the configuration\n",
    "data_module_config = config['data_module']\n",
    "data_module = LandsatDataModule.from_config(data_module_config)\n",
    "print(\"DataModule created successfully\")"
   ]
  },
  {
   "cell_type": "markdown",
   "metadata": {},
   "source": [
    "## Create the model"
   ]
  },
  {
   "cell_type": "code",
   "execution_count": 17,
   "metadata": {},
   "outputs": [
    {
     "name": "stdout",
     "output_type": "stream",
     "text": [
      "Model created successfully\n"
     ]
    }
   ],
   "source": [
    "# Create the model from the configuration\n",
    "model_config = config['model']\n",
    "model = ResAttentionConvNetCBAM.from_config(model_config)\n",
    "print(\"Model created successfully\")"
   ]
  },
  {
   "cell_type": "markdown",
   "metadata": {},
   "source": [
    "## Set the loss function"
   ]
  },
  {
   "cell_type": "code",
   "execution_count": 18,
   "metadata": {},
   "outputs": [],
   "source": [
    "# Create the loss function from the configuration\n",
    "loss_config = config['loss']\n",
    "loss = LossFactory.from_config(loss_config)"
   ]
  },
  {
   "cell_type": "markdown",
   "metadata": {},
   "source": [
    "## Create the trainer"
   ]
  },
  {
   "cell_type": "code",
   "execution_count": 19,
   "metadata": {},
   "outputs": [
    {
     "name": "stdout",
     "output_type": "stream",
     "text": [
      "Lightning module created successfully\n"
     ]
    }
   ],
   "source": [
    "# Create Lightning module\n",
    "optimizer_config = config['optimizer']\n",
    "scheduler_config = config['scheduler']\n",
    "\n",
    "trainer_module = BasicTrainer(model, loss, optimizer_config, scheduler_config)\n",
    "print(\"Lightning module created successfully\")"
   ]
  },
  {
   "cell_type": "markdown",
   "metadata": {},
   "source": [
    "## Initialize wandb"
   ]
  },
  {
   "cell_type": "code",
   "execution_count": 8,
   "metadata": {},
   "outputs": [],
   "source": [
    "# Initialize wandb\n",
    "run_name = f\"{config['model_name']}_embed{config['model']['embedding_size']}\"\n",
    "wandb.init(project=\"INEGI\", entity=\"geo-dl\", config=config, name=run_name)\n",
    "\n",
    "# Setup wandb logger\n",
    "wandb_logger = WandbLogger(project=\"INEGI\", entity=\"geo-dl\", name=run_name, config=config)"
   ]
  },
  {
   "cell_type": "markdown",
   "metadata": {},
   "source": [
    "## Create pytorch lightning trainers and callbacks"
   ]
  },
  {
   "cell_type": "code",
   "execution_count": null,
   "metadata": {},
   "outputs": [],
   "source": [
    "# Setup model checkpoint callback\n",
    "checkpoint_callback = ModelCheckpoint(\n",
    "    dirpath='checkpoints',\n",
    "    filename='inegi-{epoch:02d}-{val_loss:.2f}',\n",
    "    save_top_k=3,\n",
    "    monitor='val_loss',\n",
    "    mode='min'\n",
    ")\n",
    "\n",
    "# Learning rate monitor\n",
    "lr_monitor = LearningRateMonitor(logging_interval='epoch')\n",
    "\n",
    "# Setup trainer\n",
    "trainer = pl.Trainer(\n",
    "    max_epochs=30,\n",
    "    logger=wandb_logger,\n",
    "    log_every_n_steps=5,\n",
    "    callbacks=[checkpoint_callback, lr_monitor],\n",
    "    accumulate_grad_batches=1,\n",
    "    devices=1 if torch.cuda.is_available() else None,\n",
    "    accelerator='gpu' if torch.cuda.is_available() else 'cpu'\n",
    ")"
   ]
  },
  {
   "cell_type": "markdown",
   "metadata": {},
   "source": [
    "## Train the model"
   ]
  },
  {
   "cell_type": "code",
   "execution_count": null,
   "metadata": {},
   "outputs": [],
   "source": [
    "# Train model\n",
    "trainer.fit(trainer_module, data_module)"
   ]
  },
  {
   "cell_type": "markdown",
   "metadata": {},
   "source": [
    "## Shutdown all"
   ]
  },
  {
   "cell_type": "code",
   "execution_count": null,
   "metadata": {},
   "outputs": [],
   "source": [
    "# Close wandb run\n",
    "wandb.finish()"
   ]
  }
 ],
 "metadata": {
  "language_info": {
   "name": "python"
  }
 },
 "nbformat": 4,
 "nbformat_minor": 2
}
