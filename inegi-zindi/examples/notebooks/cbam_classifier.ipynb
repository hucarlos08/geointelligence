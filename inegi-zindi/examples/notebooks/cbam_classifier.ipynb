{
 "cells": [
  {
   "cell_type": "markdown",
   "metadata": {},
   "source": [
    "## Import al neccesary libries"
   ]
  },
  {
   "cell_type": "code",
   "execution_count": 1,
   "metadata": {},
   "outputs": [],
   "source": [
    "import torch\n",
    "import torch.nn as nn\n",
    "import torch.optim as optim\n",
    "import pytorch_lightning as pl\n",
    "import wandb\n",
    "import traceback\n",
    "import torch.nn.functional as F\n",
    "import numpy as np\n",
    "\n",
    "from torch.utils.data import DataLoader\n",
    "from pytorch_lightning.loggers import WandbLogger\n",
    "from pytorch_lightning.callbacks import ModelCheckpoint, LearningRateMonitor\n",
    "\n",
    "\n",
    "from models.data import LandsatDataModule\n",
    "from models.nn import ResAttnConvNet\n",
    "from models.trainers import BasicTrainer\n",
    "from models.trainers import LossFactory\n"
   ]
  },
  {
   "cell_type": "markdown",
   "metadata": {},
   "source": [
    "## Set all configurations using dictionaries"
   ]
  },
  {
   "cell_type": "code",
   "execution_count": 2,
   "metadata": {},
   "outputs": [],
   "source": [
    "config = {\n",
    "    'data_module': {\n",
    "        'train_file': '/teamspace/studios/this_studio/datasets/uint16_optimized_balanced_train_data.h5',\n",
    "        'test_file': '/teamspace/studios/this_studio/dataset/test_data.h5',\n",
    "        'batch_size': 1024,\n",
    "        'dtype': np.uint16,\n",
    "        'num_workers': 4,\n",
    "        'seed': 50,\n",
    "        'split_ratio': (0.8, 0.2),\n",
    "        'transform': {\n",
    "            'RandomHorizontalFlip': {'p': 0.5},\n",
    "            'RandomVerticalFlip': {'p': 0.5},\n",
    "            'RandomRotation': {'degrees': 90},\n",
    "        }\n",
    "    },\n",
    "    'model': {\n",
    "            'input_channels': 6,\n",
    "            'initial_channels': 32,\n",
    "            'embedding_size': 512,\n",
    "            'depth': 3,\n",
    "            'num_classes': 1,\n",
    "            'reduction': 16,\n",
    "            'dropout_rate': 0.5,\n",
    "    },\n",
    "    'loss_functions': {\n",
    "        'BCEWithLogitsLoss': {'reduction': 'mean'},\n",
    "        'FocalLoss': {'alpha': 0.25, 'gamma': 2}\n",
    "    },\n",
    "    'optimizer': {\n",
    "        'type': 'AdamW',\n",
    "        'lr': 1e-3,\n",
    "        'weight_decay': 1.0e-5\n",
    "    },\n",
    "    'scheduler': {\n",
    "        'type': 'StepLR',\n",
    "        'step_size': 10,\n",
    "        'gamma': 0.1\n",
    "    }\n",
    "}"
   ]
  },
  {
   "cell_type": "markdown",
   "metadata": {},
   "source": [
    "## Create the data module"
   ]
  },
  {
   "cell_type": "code",
   "execution_count": 3,
   "metadata": {},
   "outputs": [
    {
     "name": "stdout",
     "output_type": "stream",
     "text": [
      "DataModule created successfully\n"
     ]
    }
   ],
   "source": [
    "# Create the HDF5DataModule from the configuration\n",
    "data_module_config = config['data_module']\n",
    "data_module = LandsatDataModule.from_config(data_module_config)\n",
    "print(\"DataModule created successfully\")"
   ]
  },
  {
   "cell_type": "markdown",
   "metadata": {},
   "source": [
    "## Create the model"
   ]
  },
  {
   "cell_type": "code",
   "execution_count": 4,
   "metadata": {},
   "outputs": [
    {
     "name": "stdout",
     "output_type": "stream",
     "text": [
      "Model created successfully\n"
     ]
    }
   ],
   "source": [
    "# Create the model from the configuration\n",
    "model_config = config['model']\n",
    "model = ResAttnConvNet.from_config(model_config)\n",
    "print(\"Model created successfully\")"
   ]
  },
  {
   "cell_type": "markdown",
   "metadata": {},
   "source": [
    "## Set the loss function"
   ]
  },
  {
   "cell_type": "code",
   "execution_count": 5,
   "metadata": {},
   "outputs": [
    {
     "name": "stdout",
     "output_type": "stream",
     "text": [
      "Loss function created successfully\n"
     ]
    }
   ],
   "source": [
    "# Create the loss function from the configuration\n",
    "loss_config = config['loss_functions']\n",
    "loss = LossFactory.from_config(loss_config)\n",
    "print(\"Loss function created successfully\")"
   ]
  },
  {
   "cell_type": "markdown",
   "metadata": {},
   "source": [
    "## Create the trainer"
   ]
  },
  {
   "cell_type": "code",
   "execution_count": 6,
   "metadata": {},
   "outputs": [
    {
     "name": "stdout",
     "output_type": "stream",
     "text": [
      "Lightning module created successfully\n"
     ]
    }
   ],
   "source": [
    "# Create Lightning module\n",
    "optimizer_config = config['optimizer']\n",
    "scheduler_config = config['scheduler']\n",
    "\n",
    "trainer_module = BasicTrainer(model, loss, optimizer_config, scheduler_config)\n",
    "print(\"Lightning module created successfully\")"
   ]
  },
  {
   "cell_type": "markdown",
   "metadata": {},
   "source": [
    "## Initialize wandb"
   ]
  },
  {
   "cell_type": "code",
   "execution_count": 7,
   "metadata": {},
   "outputs": [
    {
     "name": "stderr",
     "output_type": "stream",
     "text": [
      "\u001b[34m\u001b[1mwandb\u001b[0m: Using wandb-core as the SDK backend. Please refer to https://wandb.me/wandb-core for more information.\n",
      "\u001b[34m\u001b[1mwandb\u001b[0m: Currently logged in as: \u001b[33mhucarlos\u001b[0m (\u001b[33mgeo-dl\u001b[0m). Use \u001b[1m`wandb login --relogin`\u001b[0m to force relogin\n"
     ]
    },
    {
     "data": {
      "text/html": [
       "Tracking run with wandb version 0.18.0"
      ],
      "text/plain": [
       "<IPython.core.display.HTML object>"
      ]
     },
     "metadata": {},
     "output_type": "display_data"
    },
    {
     "data": {
      "text/html": [
       "Run data is saved locally in <code>/teamspace/studios/this_studio/wandb/run-20240923_100255-7lrd6noi</code>"
      ],
      "text/plain": [
       "<IPython.core.display.HTML object>"
      ]
     },
     "metadata": {},
     "output_type": "display_data"
    },
    {
     "data": {
      "text/html": [
       "Syncing run <strong><a href='https://wandb.ai/geo-dl/INEGI/runs/7lrd6noi' target=\"_blank\">RACNet_embed512</a></strong> to <a href='https://wandb.ai/geo-dl/INEGI' target=\"_blank\">Weights & Biases</a> (<a href='https://wandb.me/run' target=\"_blank\">docs</a>)<br/>"
      ],
      "text/plain": [
       "<IPython.core.display.HTML object>"
      ]
     },
     "metadata": {},
     "output_type": "display_data"
    },
    {
     "data": {
      "text/html": [
       " View project at <a href='https://wandb.ai/geo-dl/INEGI' target=\"_blank\">https://wandb.ai/geo-dl/INEGI</a>"
      ],
      "text/plain": [
       "<IPython.core.display.HTML object>"
      ]
     },
     "metadata": {},
     "output_type": "display_data"
    },
    {
     "data": {
      "text/html": [
       " View run at <a href='https://wandb.ai/geo-dl/INEGI/runs/7lrd6noi' target=\"_blank\">https://wandb.ai/geo-dl/INEGI/runs/7lrd6noi</a>"
      ],
      "text/plain": [
       "<IPython.core.display.HTML object>"
      ]
     },
     "metadata": {},
     "output_type": "display_data"
    }
   ],
   "source": [
    "# Initialize wandb\n",
    "run_name = f\"{model.get_class_name()}_embed{config['model']['embedding_size']}\"\n",
    "wandb.init(project=\"INEGI\", entity=\"geo-dl\", config=config, name=run_name)\n",
    "\n",
    "# Setup wandb logger\n",
    "wandb_logger = WandbLogger(project=\"INEGI\", entity=\"geo-dl\")"
   ]
  },
  {
   "cell_type": "markdown",
   "metadata": {},
   "source": [
    "## Create pytorch lightning trainers and callbacks"
   ]
  },
  {
   "cell_type": "code",
   "execution_count": 8,
   "metadata": {},
   "outputs": [
    {
     "name": "stderr",
     "output_type": "stream",
     "text": [
      "GPU available: True (cuda), used: True\n",
      "TPU available: False, using: 0 TPU cores\n",
      "HPU available: False, using: 0 HPUs\n"
     ]
    },
    {
     "name": "stdout",
     "output_type": "stream",
     "text": [
      "Trainer created successfully\n"
     ]
    }
   ],
   "source": [
    "# Setup model checkpoint callback\n",
    "checkpoint_callback = ModelCheckpoint(\n",
    "    dirpath='checkpoints',\n",
    "    filename='inegi-{epoch:02d}-{val_loss:.2f}',\n",
    "    save_top_k=3,\n",
    "    monitor='val_loss',\n",
    "    mode='min'\n",
    ")\n",
    "\n",
    "# Learning rate monitor\n",
    "lr_monitor = LearningRateMonitor(logging_interval='epoch')\n",
    "\n",
    "# Setup trainer\n",
    "trainer = pl.Trainer(\n",
    "    max_epochs=30,\n",
    "    logger=wandb_logger,\n",
    "    log_every_n_steps=5,\n",
    "    callbacks=[checkpoint_callback, lr_monitor],\n",
    "    accumulate_grad_batches=1,\n",
    "    devices=1 if torch.cuda.is_available() else None,\n",
    "    accelerator='gpu' if torch.cuda.is_available() else 'cpu'\n",
    ")\n",
    "print(\"Trainer created successfully\")"
   ]
  },
  {
   "cell_type": "markdown",
   "metadata": {},
   "source": [
    "## Train the model"
   ]
  },
  {
   "cell_type": "code",
   "execution_count": 9,
   "metadata": {},
   "outputs": [
    {
     "name": "stderr",
     "output_type": "stream",
     "text": [
      "/home/zeus/miniconda3/envs/cloudspace/lib/python3.10/site-packages/pytorch_lightning/loggers/wandb.py:396: There is a wandb run already in progress and newly created instances of `WandbLogger` will reuse this run. If this is not desired, call `wandb.finish()` before instantiating `WandbLogger`.\n",
      "/home/zeus/miniconda3/envs/cloudspace/lib/python3.10/site-packages/pytorch_lightning/callbacks/model_checkpoint.py:654: Checkpoint directory /teamspace/studios/this_studio/checkpoints exists and is not empty.\n",
      "LOCAL_RANK: 0 - CUDA_VISIBLE_DEVICES: [0]\n",
      "\n",
      "  | Name      | Type            | Params | Mode \n",
      "------------------------------------------------------\n",
      "0 | model     | ResAttnConvNet  | 5.1 M  | train\n",
      "1 | accuracy  | BinaryAccuracy  | 0      | train\n",
      "2 | precision | BinaryPrecision | 0      | train\n",
      "3 | recall    | BinaryRecall    | 0      | train\n",
      "4 | f1        | BinaryF1Score   | 0      | train\n",
      "5 | aucroc    | BinaryAUROC     | 0      | train\n",
      "------------------------------------------------------\n",
      "5.1 M     Trainable params\n",
      "0         Non-trainable params\n",
      "5.1 M     Total params\n",
      "20.393    Total estimated model params size (MB)\n",
      "109       Modules in train mode\n",
      "0         Modules in eval mode\n"
     ]
    },
    {
     "data": {
      "application/vnd.jupyter.widget-view+json": {
       "model_id": "c374b186e6a544fabe513ccfbd965d0b",
       "version_major": 2,
       "version_minor": 0
      },
      "text/plain": [
       "Sanity Checking: |          | 0/? [00:00<?, ?it/s]"
      ]
     },
     "metadata": {},
     "output_type": "display_data"
    },
    {
     "data": {
      "application/vnd.jupyter.widget-view+json": {
       "model_id": "b844a06d01f04f8b9bb8bac394003fb1",
       "version_major": 2,
       "version_minor": 0
      },
      "text/plain": [
       "Training: |          | 0/? [00:00<?, ?it/s]"
      ]
     },
     "metadata": {},
     "output_type": "display_data"
    },
    {
     "data": {
      "application/vnd.jupyter.widget-view+json": {
       "model_id": "e9cad0d088234b9f90e2febd2cc620e0",
       "version_major": 2,
       "version_minor": 0
      },
      "text/plain": [
       "Validation: |          | 0/? [00:00<?, ?it/s]"
      ]
     },
     "metadata": {},
     "output_type": "display_data"
    },
    {
     "data": {
      "application/vnd.jupyter.widget-view+json": {
       "model_id": "ef17b839b15c4aa6b998df101d6b49d9",
       "version_major": 2,
       "version_minor": 0
      },
      "text/plain": [
       "Validation: |          | 0/? [00:00<?, ?it/s]"
      ]
     },
     "metadata": {},
     "output_type": "display_data"
    },
    {
     "data": {
      "application/vnd.jupyter.widget-view+json": {
       "model_id": "29cc039c8d5b46c9b3516d12067e06f7",
       "version_major": 2,
       "version_minor": 0
      },
      "text/plain": [
       "Validation: |          | 0/? [00:00<?, ?it/s]"
      ]
     },
     "metadata": {},
     "output_type": "display_data"
    },
    {
     "data": {
      "application/vnd.jupyter.widget-view+json": {
       "model_id": "82ae3701831342a3a129a5df25aae0e8",
       "version_major": 2,
       "version_minor": 0
      },
      "text/plain": [
       "Validation: |          | 0/? [00:00<?, ?it/s]"
      ]
     },
     "metadata": {},
     "output_type": "display_data"
    },
    {
     "data": {
      "application/vnd.jupyter.widget-view+json": {
       "model_id": "f5220e39edfa42ffbf18da6938675dce",
       "version_major": 2,
       "version_minor": 0
      },
      "text/plain": [
       "Validation: |          | 0/? [00:00<?, ?it/s]"
      ]
     },
     "metadata": {},
     "output_type": "display_data"
    },
    {
     "data": {
      "application/vnd.jupyter.widget-view+json": {
       "model_id": "9fe1deb3c4244188b85f18bdd5dbf1b6",
       "version_major": 2,
       "version_minor": 0
      },
      "text/plain": [
       "Validation: |          | 0/? [00:00<?, ?it/s]"
      ]
     },
     "metadata": {},
     "output_type": "display_data"
    },
    {
     "data": {
      "application/vnd.jupyter.widget-view+json": {
       "model_id": "1e36f015a3104aa3974f0ab1e9ea58b1",
       "version_major": 2,
       "version_minor": 0
      },
      "text/plain": [
       "Validation: |          | 0/? [00:00<?, ?it/s]"
      ]
     },
     "metadata": {},
     "output_type": "display_data"
    },
    {
     "data": {
      "application/vnd.jupyter.widget-view+json": {
       "model_id": "1822ab8c97f84ce9aebd8ea055f99f87",
       "version_major": 2,
       "version_minor": 0
      },
      "text/plain": [
       "Validation: |          | 0/? [00:00<?, ?it/s]"
      ]
     },
     "metadata": {},
     "output_type": "display_data"
    },
    {
     "data": {
      "application/vnd.jupyter.widget-view+json": {
       "model_id": "c2285bd2541f4d59a3f2f91d6a7a6edc",
       "version_major": 2,
       "version_minor": 0
      },
      "text/plain": [
       "Validation: |          | 0/? [00:00<?, ?it/s]"
      ]
     },
     "metadata": {},
     "output_type": "display_data"
    },
    {
     "data": {
      "application/vnd.jupyter.widget-view+json": {
       "model_id": "98918bd5111742d8939b70669df16359",
       "version_major": 2,
       "version_minor": 0
      },
      "text/plain": [
       "Validation: |          | 0/? [00:00<?, ?it/s]"
      ]
     },
     "metadata": {},
     "output_type": "display_data"
    },
    {
     "data": {
      "application/vnd.jupyter.widget-view+json": {
       "model_id": "7ce36f1d92e24ce0a224c96b585a8458",
       "version_major": 2,
       "version_minor": 0
      },
      "text/plain": [
       "Validation: |          | 0/? [00:00<?, ?it/s]"
      ]
     },
     "metadata": {},
     "output_type": "display_data"
    },
    {
     "data": {
      "application/vnd.jupyter.widget-view+json": {
       "model_id": "75d300f338f64e8992f4520509977cfe",
       "version_major": 2,
       "version_minor": 0
      },
      "text/plain": [
       "Validation: |          | 0/? [00:00<?, ?it/s]"
      ]
     },
     "metadata": {},
     "output_type": "display_data"
    },
    {
     "data": {
      "application/vnd.jupyter.widget-view+json": {
       "model_id": "2c68425a72a2467ba1ecf2f69c153d4d",
       "version_major": 2,
       "version_minor": 0
      },
      "text/plain": [
       "Validation: |          | 0/? [00:00<?, ?it/s]"
      ]
     },
     "metadata": {},
     "output_type": "display_data"
    },
    {
     "data": {
      "application/vnd.jupyter.widget-view+json": {
       "model_id": "54388a7ebfe64995ada28917cdf0cf5e",
       "version_major": 2,
       "version_minor": 0
      },
      "text/plain": [
       "Validation: |          | 0/? [00:00<?, ?it/s]"
      ]
     },
     "metadata": {},
     "output_type": "display_data"
    },
    {
     "data": {
      "application/vnd.jupyter.widget-view+json": {
       "model_id": "c9b030b5a30e44e2a6babc8ffbe11daa",
       "version_major": 2,
       "version_minor": 0
      },
      "text/plain": [
       "Validation: |          | 0/? [00:00<?, ?it/s]"
      ]
     },
     "metadata": {},
     "output_type": "display_data"
    },
    {
     "data": {
      "application/vnd.jupyter.widget-view+json": {
       "model_id": "153d813f39114f77937d0575f99ada73",
       "version_major": 2,
       "version_minor": 0
      },
      "text/plain": [
       "Validation: |          | 0/? [00:00<?, ?it/s]"
      ]
     },
     "metadata": {},
     "output_type": "display_data"
    },
    {
     "data": {
      "application/vnd.jupyter.widget-view+json": {
       "model_id": "f8ec7c52e1304107af753034c6f5048c",
       "version_major": 2,
       "version_minor": 0
      },
      "text/plain": [
       "Validation: |          | 0/? [00:00<?, ?it/s]"
      ]
     },
     "metadata": {},
     "output_type": "display_data"
    },
    {
     "data": {
      "application/vnd.jupyter.widget-view+json": {
       "model_id": "848724bac5c740168e22a94804c2d5cb",
       "version_major": 2,
       "version_minor": 0
      },
      "text/plain": [
       "Validation: |          | 0/? [00:00<?, ?it/s]"
      ]
     },
     "metadata": {},
     "output_type": "display_data"
    },
    {
     "data": {
      "application/vnd.jupyter.widget-view+json": {
       "model_id": "8cceafae899144c7a3a4dffe39dfe8f8",
       "version_major": 2,
       "version_minor": 0
      },
      "text/plain": [
       "Validation: |          | 0/? [00:00<?, ?it/s]"
      ]
     },
     "metadata": {},
     "output_type": "display_data"
    },
    {
     "data": {
      "application/vnd.jupyter.widget-view+json": {
       "model_id": "32947147a7784e6382ed2c78d249bd12",
       "version_major": 2,
       "version_minor": 0
      },
      "text/plain": [
       "Validation: |          | 0/? [00:00<?, ?it/s]"
      ]
     },
     "metadata": {},
     "output_type": "display_data"
    },
    {
     "data": {
      "application/vnd.jupyter.widget-view+json": {
       "model_id": "35d5e6d62e574c5cb40c00cd3e5a17ec",
       "version_major": 2,
       "version_minor": 0
      },
      "text/plain": [
       "Validation: |          | 0/? [00:00<?, ?it/s]"
      ]
     },
     "metadata": {},
     "output_type": "display_data"
    },
    {
     "data": {
      "application/vnd.jupyter.widget-view+json": {
       "model_id": "75267f15622d4dae8637bca47e069c6e",
       "version_major": 2,
       "version_minor": 0
      },
      "text/plain": [
       "Validation: |          | 0/? [00:00<?, ?it/s]"
      ]
     },
     "metadata": {},
     "output_type": "display_data"
    },
    {
     "data": {
      "application/vnd.jupyter.widget-view+json": {
       "model_id": "c6af1becf7dc4ff992bebd2107904e3d",
       "version_major": 2,
       "version_minor": 0
      },
      "text/plain": [
       "Validation: |          | 0/? [00:00<?, ?it/s]"
      ]
     },
     "metadata": {},
     "output_type": "display_data"
    },
    {
     "data": {
      "application/vnd.jupyter.widget-view+json": {
       "model_id": "857233671a6d42cca2745e1c250934c3",
       "version_major": 2,
       "version_minor": 0
      },
      "text/plain": [
       "Validation: |          | 0/? [00:00<?, ?it/s]"
      ]
     },
     "metadata": {},
     "output_type": "display_data"
    },
    {
     "data": {
      "application/vnd.jupyter.widget-view+json": {
       "model_id": "31450b01e50b437ca68849c22ec1ebf8",
       "version_major": 2,
       "version_minor": 0
      },
      "text/plain": [
       "Validation: |          | 0/? [00:00<?, ?it/s]"
      ]
     },
     "metadata": {},
     "output_type": "display_data"
    },
    {
     "data": {
      "application/vnd.jupyter.widget-view+json": {
       "model_id": "6224d5a06a9f483ba3eac6a413762277",
       "version_major": 2,
       "version_minor": 0
      },
      "text/plain": [
       "Validation: |          | 0/? [00:00<?, ?it/s]"
      ]
     },
     "metadata": {},
     "output_type": "display_data"
    },
    {
     "data": {
      "application/vnd.jupyter.widget-view+json": {
       "model_id": "926dda4e224149f1803444d1cad72a3f",
       "version_major": 2,
       "version_minor": 0
      },
      "text/plain": [
       "Validation: |          | 0/? [00:00<?, ?it/s]"
      ]
     },
     "metadata": {},
     "output_type": "display_data"
    },
    {
     "data": {
      "application/vnd.jupyter.widget-view+json": {
       "model_id": "45aa6d80f85e4c86922d4070ea495ee5",
       "version_major": 2,
       "version_minor": 0
      },
      "text/plain": [
       "Validation: |          | 0/? [00:00<?, ?it/s]"
      ]
     },
     "metadata": {},
     "output_type": "display_data"
    },
    {
     "data": {
      "application/vnd.jupyter.widget-view+json": {
       "model_id": "a1239a29470748ac92c0a71d83fc4001",
       "version_major": 2,
       "version_minor": 0
      },
      "text/plain": [
       "Validation: |          | 0/? [00:00<?, ?it/s]"
      ]
     },
     "metadata": {},
     "output_type": "display_data"
    },
    {
     "data": {
      "application/vnd.jupyter.widget-view+json": {
       "model_id": "132588e0a41f4bbd8887035a6c37cd63",
       "version_major": 2,
       "version_minor": 0
      },
      "text/plain": [
       "Validation: |          | 0/? [00:00<?, ?it/s]"
      ]
     },
     "metadata": {},
     "output_type": "display_data"
    },
    {
     "name": "stderr",
     "output_type": "stream",
     "text": [
      "`Trainer.fit` stopped: `max_epochs=30` reached.\n"
     ]
    },
    {
     "data": {
      "application/vnd.jupyter.widget-view+json": {
       "model_id": "14ed382f6fa84b6db84ec4f477bafbe0",
       "version_major": 2,
       "version_minor": 0
      },
      "text/plain": [
       "VBox(children=(Label(value='0.009 MB of 0.009 MB uploaded\\r'), FloatProgress(value=1.0, max=1.0)))"
      ]
     },
     "metadata": {},
     "output_type": "display_data"
    },
    {
     "data": {
      "text/html": [
       "<style>\n",
       "    table.wandb td:nth-child(1) { padding: 0 10px; text-align: left ; width: auto;} td:nth-child(2) {text-align: left ; width: 100%}\n",
       "    .wandb-row { display: flex; flex-direction: row; flex-wrap: wrap; justify-content: flex-start; width: 100% }\n",
       "    .wandb-col { display: flex; flex-direction: column; flex-basis: 100%; flex: 1; padding: 10px; }\n",
       "    </style>\n",
       "<div class=\"wandb-row\"><div class=\"wandb-col\"><h3>Run history:</h3><br/><table class=\"wandb\"><tr><td>epoch</td><td>▁▁▁▁▂▂▂▂▃▃▃▃▄▄▄▄▄▄▄▄▄▄▄▄▅▅▅▅▅▆▆▆▆▇██████</td></tr><tr><td>lr-AdamW</td><td>██████████▂▂▂▂▂▂▂▂▂▂▁▁▁▁▁▁▁▁▁▁</td></tr><tr><td>train_accuracy_epoch</td><td>▁▄▅▅▅▆▆▆▆▆▇▇▇▇▇▇██████████████</td></tr><tr><td>train_accuracy_step</td><td>▁▃▁▃▄▃▃▄▄▆▄▅▄▅▅▄▇▇▃▅▇▆▅▆▅▇▅▇▅▆▆▆▅█▇▅▅▆▅▆</td></tr><tr><td>train_aucroc_epoch</td><td>▁▄▅▅▆▆▆▆▆▆▇▇▇▇████████████████</td></tr><tr><td>train_aucroc_step</td><td>▁▁▃▄▅▄▅▄▆▄▅▅▅▆▅▆▇▆▅▆▇▇▇█▇▇▇▇▇▇▆▇▆▇▆▇▆▆▇▇</td></tr><tr><td>train_f1_epoch</td><td>▁▄▅▅▆▆▆▆▆▆▇▇▇▇▇███████████████</td></tr><tr><td>train_f1_step</td><td>▃▁▃▅▄▅▅▄▆▄▅▅▃▄▅▅▆▇▅▆▇▇▆▅▆▆▆▇▄▆▇▅▆▅▆▆▇▅█▅</td></tr><tr><td>train_loss_epoch</td><td>█▆▅▄▄▄▄▃▄▃▃▂▂▂▂▂▂▁▁▁▁▁▁▁▁▁▁▁▁▁</td></tr><tr><td>train_loss_step</td><td>█▆▇█▆▆▅▃▄▅▄▄▃▄▃▂▄▂▃▁▂▃▂▂▄▃▂▂▂▂▃▂▂▃▂▂▃▁▂▂</td></tr><tr><td>train_precision_epoch</td><td>▁▄▄▅▅▅▅▆▆▆▇▇▇▇▇▇██████████████</td></tr><tr><td>train_precision_step</td><td>▁▆▃▅▅▅▄▃▄▄▄▃▄▆▄▅▆▆▆▅█▆▇▇▇▆▆▇▅▅▄▇▅▇▇▅▅▆▅▆</td></tr><tr><td>train_recall_epoch</td><td>▁▄▅▅▆▆▇▆▆▆▆▇█▇▇█▇█▇▇██████████</td></tr><tr><td>train_recall_step</td><td>▃▁▅▄▅█▆▄▅▇▇▆▆▆▆▅▆▅▆▆▆▅▅▅▆▅▆▆▆▆▅▆▆▆▆▆▅▇▆▆</td></tr><tr><td>trainer/global_step</td><td>▁▁▁▁▁▂▂▂▂▂▂▂▃▃▃▃▃▃▄▄▄▄▅▅▅▅▅▆▆▆▆▇▇▇▇▇▇███</td></tr><tr><td>val_accuracy</td><td>▁▆▅▆▆▆▆▆▇▄████████████████████</td></tr><tr><td>val_aucroc</td><td>▂▄▃▅▅▄▅▅▆▁▇▇▇▇████████████████</td></tr><tr><td>val_f1</td><td>▁▇▆▇█▇▆▇▇█████████████████████</td></tr><tr><td>val_loss</td><td>█▅▅▄▄▄▄▄▃▇▂▁▁▂▁▁▁▁▁▁▁▁▁▁▁▁▁▁▁▁</td></tr><tr><td>val_precision</td><td>█▄▅▅▂▄▆▅▅▁▅▅▅▅▅▆▆▆▆▆▆▆▆▆▆▆▆▆▆▆</td></tr><tr><td>val_recall</td><td>▁▆▄▅█▆▅▅▆█▇▇▇▇▇▆▆▆▆▆▆▆▆▆▆▆▆▆▆▆</td></tr></table><br/></div><div class=\"wandb-col\"><h3>Run summary:</h3><br/><table class=\"wandb\"><tr><td>epoch</td><td>29</td></tr><tr><td>lr-AdamW</td><td>1e-05</td></tr><tr><td>train_accuracy_epoch</td><td>0.71659</td></tr><tr><td>train_accuracy_step</td><td>0.73047</td></tr><tr><td>train_aucroc_epoch</td><td>0.79567</td></tr><tr><td>train_aucroc_step</td><td>0.81249</td></tr><tr><td>train_f1_epoch</td><td>0.71889</td></tr><tr><td>train_f1_step</td><td>0.71605</td></tr><tr><td>train_loss_epoch</td><td>0.5901</td></tr><tr><td>train_loss_step</td><td>0.57309</td></tr><tr><td>train_precision_epoch</td><td>0.71356</td></tr><tr><td>train_precision_step</td><td>0.66923</td></tr><tr><td>train_recall_epoch</td><td>0.72478</td></tr><tr><td>train_recall_step</td><td>0.76991</td></tr><tr><td>trainer/global_step</td><td>4709</td></tr><tr><td>val_accuracy</td><td>0.72005</td></tr><tr><td>val_aucroc</td><td>0.80661</td></tr><tr><td>val_f1</td><td>0.68744</td></tr><tr><td>val_loss</td><td>0.58272</td></tr><tr><td>val_precision</td><td>0.77372</td></tr><tr><td>val_recall</td><td>0.61886</td></tr></table><br/></div></div>"
      ],
      "text/plain": [
       "<IPython.core.display.HTML object>"
      ]
     },
     "metadata": {},
     "output_type": "display_data"
    },
    {
     "data": {
      "text/html": [
       " View run <strong style=\"color:#cdcd00\">RACNet_embed512</strong> at: <a href='https://wandb.ai/geo-dl/INEGI/runs/7lrd6noi' target=\"_blank\">https://wandb.ai/geo-dl/INEGI/runs/7lrd6noi</a><br/> View project at: <a href='https://wandb.ai/geo-dl/INEGI' target=\"_blank\">https://wandb.ai/geo-dl/INEGI</a><br/>Synced 5 W&B file(s), 0 media file(s), 0 artifact file(s) and 0 other file(s)"
      ],
      "text/plain": [
       "<IPython.core.display.HTML object>"
      ]
     },
     "metadata": {},
     "output_type": "display_data"
    },
    {
     "data": {
      "text/html": [
       "Find logs at: <code>./wandb/run-20240923_100255-7lrd6noi/logs</code>"
      ],
      "text/plain": [
       "<IPython.core.display.HTML object>"
      ]
     },
     "metadata": {},
     "output_type": "display_data"
    }
   ],
   "source": [
    "# Train model\n",
    "try:\n",
    "    trainer.fit(trainer_module, data_module)\n",
    "except Exception as e:\n",
    "    print(f\"An error occurred during training: {e}\")\n",
    "    # Print the full traceback, including the line number\n",
    "    traceback.print_exc()\n",
    "finally:\n",
    "    # Close wandb run\n",
    "    wandb.finish()"
   ]
  },
  {
   "cell_type": "markdown",
   "metadata": {},
   "source": [
    "## Shutdown all"
   ]
  },
  {
   "cell_type": "code",
   "execution_count": 10,
   "metadata": {},
   "outputs": [],
   "source": [
    "# Close wandb run\n",
    "wandb.finish()"
   ]
  }
 ],
 "metadata": {
  "language_info": {
   "name": "python"
  }
 },
 "nbformat": 4,
 "nbformat_minor": 2
}
